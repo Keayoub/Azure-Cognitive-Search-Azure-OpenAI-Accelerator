{
 "cells": [
  {
   "cell_type": "markdown",
   "metadata": {},
   "source": [
    "# Introduction\n",
    "\n",
    "Welcome to this repository. We will be walking you to a series of notebooks in which you will understand how RAG works (Retrieval Augmented Generation, a technique that combines the power of search and generation of AI to answer user queries). We will work with different sources (Azure Cog Search, Files, SQL Server, Websites, etc) and at the end of the notebooks you will understand why the magic happens with the combination of:\n",
    "\n",
    "1. Multi-Agents: Agents talking to each other\n",
    "2. GPT-4-32k: The best model available\n",
    "3. Very detailed prompts\n",
    "\n",
    "But we need to start from the basics, so let's begin with Azure Cognitive Search and how it works:\n"
   ]
  },
  {
   "cell_type": "markdown",
   "metadata": {},
   "source": [
    "# Load and Enrich multiple file types Azure Cognitive Search\n",
    "\n",
    "In this Jupyter Notebook, we create and run enrichment steps to unlock searchable content in the specified Azure blob. It performs operations over mixed content in Azure Storage, such as images and application files, using a skillset that analyzes and extracts text information that becomes searchable in Azure Cognitive Search.\n",
    "The reference sample can be found at [Tutorial: Use Python and AI to generate searchable content from Azure blobs](https://docs.microsoft.com/azure/search/cognitive-search-tutorial-blob-python).\n",
    "\n",
    "In this scipts we will create our data source and indexes\n",
    "\n",
    "Although only PDF files are used here, this can be done at a much larger scale and Azure Cognitive Search supports a range of other file formats including: Microsoft Office (DOCX/DOC, XSLX/XLS, PPTX/PPT, MSG), HTML, XML, ZIP, and plain text files (including JSON).\n",
    "\n",
    "This notebook creates the following objects on your search service:\n",
    "\n",
    "- data source\n",
    "- skillset\n",
    "- search index\n",
    "- indexer\n",
    "\n",
    "This notebook calls the [Search REST APIs](https://docs.microsoft.com/rest/api/searchservice/), but you can also use the Azure.Search.Documents client library in the Azure SDK for Python to perform the same steps. See this [Python quickstart](https://docs.microsoft.com/azure/search/search-get-started-python) for details.\n",
    "\n",
    "To run this notebook, you should have already created the Azure services on README. Once you've done this, you can run all cells, but the query won't return results until the indexer is finished and the search index is loaded.\n",
    "\n",
    "We recommend running each step and making sure it completes before moving on.\n"
   ]
  },
  {
   "cell_type": "markdown",
   "metadata": {},
   "source": [
    "![cog-search](./images/Cog-Search-Enrich.png)\n"
   ]
  },
  {
   "cell_type": "code",
   "execution_count": 1,
   "metadata": {},
   "outputs": [],
   "source": [
    "import os\n",
    "import json\n",
    "import requests\n",
    "from dotenv import load_dotenv\n",
    "\n",
    "load_dotenv(\"credentials.env\")\n",
    "\n",
    "# Name of the container in your Blob Storage Datasource ( in credentials.env)\n",
    "BLOB_CONTAINER_NAME = \"hack\""
   ]
  },
  {
   "cell_type": "code",
   "execution_count": null,
   "metadata": {},
   "outputs": [],
   "source": [
    "# Setup the Payloads header\n",
    "headers = {\n",
    "    \"Content-Type\": \"application/json\",\n",
    "    \"api-key\": os.environ[\"AZURE_SEARCH_KEY\"],\n",
    "}\n",
    "params = {\"api-version\": os.environ[\"AZURE_SEARCH_API_VERSION\"]}"
   ]
  },
  {
   "cell_type": "markdown",
   "metadata": {},
   "source": [
    "## Create Index for VBD File##\n"
   ]
  },
  {
   "cell_type": "code",
   "execution_count": 2,
   "metadata": {},
   "outputs": [],
   "source": [
    "# Define the names for the data source, skillset, index and indexer for the Azure Search service\n",
    "datasource_name = \"ds-vbd\"\n",
    "skillset_name = \"adlsgen2-skillset\"\n",
    "index_name = \"adlsgen2-index\"\n",
    "indexer_name = \"adlsgen2-indexer\""
   ]
  },
  {
   "cell_type": "markdown",
   "metadata": {},
   "source": [
    "### Create Data Source (Blob container with the Arxiv CS pdfs)\n"
   ]
  },
  {
   "cell_type": "code",
   "execution_count": 4,
   "metadata": {},
   "outputs": [
    {
     "name": "stdout",
     "output_type": "stream",
     "text": [
      "201\n",
      "True\n"
     ]
    }
   ],
   "source": [
    "# The following code sends the json paylod to Azure Search engine to create the Datasource\n",
    "\n",
    "datasource_payload = {\n",
    "    \"name\": datasource_name,\n",
    "    \"description\": \"VBD File cognitive search capabilities.\",\n",
    "    \"type\": \"adlsgen2\",\n",
    "    \"credentials\": {\"connectionString\": os.environ[\"ADLS_CONNECTION_STRING\"]},    \n",
    "    \"container\": {\"name\": BLOB_CONTAINER_NAME, \"query\": \"vbd\"},\n",
    "}\n",
    "r = requests.put(\n",
    "    os.environ[\"AZURE_SEARCH_ENDPOINT\"] + \"/datasources/\" + datasource_name,\n",
    "    data=json.dumps(datasource_payload),\n",
    "    headers=headers,\n",
    "    params=params,\n",
    ")\n",
    "print(r.status_code)\n",
    "print(r.ok)"
   ]
  },
  {
   "cell_type": "code",
   "execution_count": null,
   "metadata": {},
   "outputs": [
    {
     "name": "stdout",
     "output_type": "stream",
     "text": [
      "201\n",
      "True\n"
     ]
    }
   ],
   "source": [
    "# The following code sends the json paylod to Azure Search engine to create the Datasource\n",
    "\n",
    "datasource_payload = {\n",
    "    \"name\": datasource_name,\n",
    "    \"description\": \"VBD File cognitive search capabilities.\",\n",
    "    \"type\": \"adlsgen2\",\n",
    "    \"credentials\": {\"connectionString\": os.environ[\"ADLS_CONNECTION_STRING\"]},    \n",
    "    \"container\": {\"name\": BLOB_CONTAINER_NAME, \"query\": \"vbd\"},\n",
    "}\n",
    "r = requests.put(\n",
    "    os.environ[\"AZURE_SEARCH_ENDPOINT\"] + \"/datasources/\" + datasource_name,\n",
    "    data=json.dumps(datasource_payload),\n",
    "    headers=headers,\n",
    "    params=params,\n",
    ")\n",
    "print(r.status_code)\n",
    "print(r.ok)"
   ]
  },
  {
   "cell_type": "markdown",
   "metadata": {},
   "source": [
    "- 201 - Successfully created\n",
    "- 204 - Succesfully overwritten\n",
    "- 40X - Authentication Error\n",
    "\n",
    "For information on Change and Delete file detection please see [HERE](https://learn.microsoft.com/en-us/azure/search/search-howto-index-changed-deleted-blobs?tabs=rest-api)\n"
   ]
  },
  {
   "cell_type": "code",
   "execution_count": 5,
   "metadata": {},
   "outputs": [],
   "source": [
    "# If you have a 403 code, probably you have a wrong endpoint or key, you can debug by uncomment this\n",
    "# r.text"
   ]
  },
  {
   "cell_type": "markdown",
   "metadata": {},
   "source": [
    "### 02- Create Skillset - OCR, Text Splitter, Language Detection, KeyPhrase extraction, Entity Recognition\n"
   ]
  },
  {
   "cell_type": "code",
   "execution_count": 6,
   "metadata": {},
   "outputs": [
    {
     "name": "stdout",
     "output_type": "stream",
     "text": [
      "201\n",
      "True\n"
     ]
    }
   ],
   "source": [
    "# Create a skillset\n",
    "skillset_payload = {\n",
    "    \"name\": skillset_name,\n",
    "    \"description\": \"Extract entities, detect language and extract key-phrases\",\n",
    "    \"skills\": [\n",
    "        {\n",
    "            \"@odata.type\": \"#Microsoft.Skills.Vision.OcrSkill\",\n",
    "            \"description\": \"Extract text (plain and structured) from image.\",\n",
    "            \"context\": \"/document/normalized_images/*\",\n",
    "            \"defaultLanguageCode\": \"en\",\n",
    "            \"detectOrientation\": True,\n",
    "            \"inputs\": [{\"name\": \"image\", \"source\": \"/document/normalized_images/*\"}],\n",
    "            \"outputs\": [{\"name\": \"text\", \"targetName\": \"images_text\"}],\n",
    "        },\n",
    "        {\n",
    "            \"@odata.type\": \"#Microsoft.Skills.Text.MergeSkill\",\n",
    "            \"description\": \"Create merged_text, which includes all the textual representation of each image inserted at the right location in the content field. This is useful for PDF and other file formats that supported embedded images.\",\n",
    "            \"context\": \"/document\",\n",
    "            \"insertPreTag\": \" \",\n",
    "            \"insertPostTag\": \" \",\n",
    "            \"inputs\": [\n",
    "                {\"name\": \"text\", \"source\": \"/document/content\"},\n",
    "                {\n",
    "                    \"name\": \"itemsToInsert\",\n",
    "                    \"source\": \"/document/normalized_images/*/images_text\",\n",
    "                },\n",
    "                {\n",
    "                    \"name\": \"offsets\",\n",
    "                    \"source\": \"/document/normalized_images/*/contentOffset\",\n",
    "                },\n",
    "            ],\n",
    "            \"outputs\": [{\"name\": \"mergedText\", \"targetName\": \"merged_text\"}],\n",
    "        },\n",
    "        {\n",
    "            \"@odata.type\": \"#Microsoft.Skills.Text.SplitSkill\",\n",
    "            \"context\": \"/document\",\n",
    "            \"textSplitMode\": \"pages\",\n",
    "            \"maximumPageLength\": 5000,  # 5000 is default\n",
    "            \"defaultLanguageCode\": \"en\",\n",
    "            \"inputs\": [{\"name\": \"text\", \"source\": \"/document/merged_text\"}],\n",
    "            \"outputs\": [{\"name\": \"textItems\", \"targetName\": \"pages\"}],\n",
    "        },\n",
    "        {\n",
    "            \"@odata.type\": \"#Microsoft.Skills.Text.KeyPhraseExtractionSkill\",\n",
    "            \"context\": \"/document/pages/*\",\n",
    "            \"maxKeyPhraseCount\": 2,\n",
    "            \"defaultLanguageCode\": \"en\",\n",
    "            \"inputs\": [{\"name\": \"text\", \"source\": \"/document/pages/*\"}],\n",
    "            \"outputs\": [{\"name\": \"keyPhrases\", \"targetName\": \"keyPhrases\"}],\n",
    "        },\n",
    "        {\n",
    "            \"@odata.type\": \"#Microsoft.Skills.Text.V3.EntityRecognitionSkill\",\n",
    "            \"context\": \"/document/pages/*\",\n",
    "            \"categories\": [\"Person\", \"URL\", \"Email\"],\n",
    "            \"minimumPrecision\": 0.5,\n",
    "            \"defaultLanguageCode\": \"en\",\n",
    "            \"inputs\": [{\"name\": \"text\", \"source\": \"/document/pages/*\"}],\n",
    "            \"outputs\": [\n",
    "                {\"name\": \"persons\", \"targetName\": \"persons\"},\n",
    "                {\"name\": \"urls\", \"targetName\": \"urls\"},\n",
    "                {\"name\": \"emails\", \"targetName\": \"emails\"},\n",
    "            ],\n",
    "        },\n",
    "    ],\n",
    "    \"cognitiveServices\": {\n",
    "        \"@odata.type\": \"#Microsoft.Azure.Search.CognitiveServicesByKey\",\n",
    "        \"description\": os.environ[\"COG_SERVICES_NAME\"],\n",
    "        \"key\": os.environ[\"COG_SERVICES_KEY\"],\n",
    "    },\n",
    "}\n",
    "\n",
    "r = requests.put(\n",
    "    os.environ[\"AZURE_SEARCH_ENDPOINT\"] + \"/skillsets/\" + skillset_name,\n",
    "    data=json.dumps(skillset_payload),\n",
    "    headers=headers,\n",
    "    params=params,\n",
    ")\n",
    "print(r.status_code)\n",
    "print(r.ok)"
   ]
  },
  {
   "cell_type": "markdown",
   "metadata": {},
   "source": [
    "## Create Index\n"
   ]
  },
  {
   "cell_type": "markdown",
   "metadata": {},
   "source": [
    "In Azure Cognitive Search, a search index is your searchable content, available to the search engine for indexing, full text search, and filtered queries. An index is defined by a schema and saved to the search service. This content exists within your search service, apart from your primary data stores, which is necessary for the millisecond response times expected in modern applications. Except for specific indexing scenarios, the search service will never connect to or query your local data.\n",
    "\n",
    "The body of the request defines the schema of the search index. A fields collection requires one field to be designated as the key. For blob type, this field is often the \"metadata_storage_path\" that uniquely identifies each file in the container.\n",
    "\n",
    "Reference:\n",
    "\n",
    "https://learn.microsoft.com/en-us/azure/search/search-what-is-an-index\n"
   ]
  },
  {
   "cell_type": "code",
   "execution_count": 7,
   "metadata": {},
   "outputs": [
    {
     "name": "stdout",
     "output_type": "stream",
     "text": [
      "201\n",
      "True\n"
     ]
    }
   ],
   "source": [
    "# Create an index\n",
    "# Queries operate over the searchable fields and filterable fields in the index\n",
    "index_payload = {\n",
    "    \"name\": index_name,\n",
    "    \"fields\": [\n",
    "        {\n",
    "            \"name\": \"id\",\n",
    "            \"type\": \"Edm.String\",\n",
    "            \"key\": \"true\",\n",
    "            \"searchable\": \"false\",\n",
    "            \"retrievable\": \"true\",\n",
    "            \"sortable\": \"false\",\n",
    "            \"filterable\": \"false\",\n",
    "            \"facetable\": \"false\",\n",
    "        },\n",
    "        {\n",
    "            \"name\": \"title\",\n",
    "            \"type\": \"Edm.String\",\n",
    "            \"searchable\": \"true\",\n",
    "            \"retrievable\": \"true\",\n",
    "            \"facetable\": \"false\",\n",
    "            \"filterable\": \"true\",\n",
    "            \"sortable\": \"false\",\n",
    "        },\n",
    "        {\n",
    "            \"name\": \"content\",\n",
    "            \"type\": \"Edm.String\",\n",
    "            \"searchable\": \"true\",\n",
    "            \"retrievable\": \"true\",\n",
    "            \"sortable\": \"false\",\n",
    "            \"filterable\": \"false\",\n",
    "            \"facetable\": \"false\",\n",
    "        },\n",
    "        {\n",
    "            \"name\": \"chunks\",\n",
    "            \"type\": \"Collection(Edm.String)\",\n",
    "            \"searchable\": \"false\",\n",
    "            \"retrievable\": \"true\",\n",
    "            \"sortable\": \"false\",\n",
    "            \"filterable\": \"false\",\n",
    "            \"facetable\": \"false\",\n",
    "        },\n",
    "        {\n",
    "            \"name\": \"name\",\n",
    "            \"type\": \"Edm.String\",\n",
    "            \"searchable\": \"true\",\n",
    "            \"retrievable\": \"true\",\n",
    "            \"sortable\": \"false\",\n",
    "            \"filterable\": \"false\",\n",
    "            \"facetable\": \"false\",\n",
    "        },\n",
    "        {\n",
    "            \"name\": \"location\",\n",
    "            \"type\": \"Edm.String\",\n",
    "            \"searchable\": \"false\",\n",
    "            \"retrievable\": \"true\",\n",
    "            \"sortable\": \"false\",\n",
    "            \"filterable\": \"false\",\n",
    "            \"facetable\": \"false\",\n",
    "        },\n",
    "        {\n",
    "            \"name\": \"vectorized\",\n",
    "            \"type\": \"Edm.Boolean\",\n",
    "            \"searchable\": \"false\",\n",
    "            \"retrievable\": \"true\",\n",
    "            \"sortable\": \"false\",\n",
    "            \"filterable\": \"false\",\n",
    "            \"facetable\": \"false\",\n",
    "        },\n",
    "        {\n",
    "            \"name\": \"images_text\",\n",
    "            \"type\": \"Collection(Edm.String)\",\n",
    "            \"searchable\": \"true\",\n",
    "            \"retrievable\": \"true\",\n",
    "            \"sortable\": \"false\",\n",
    "            \"filterable\": \"false\",\n",
    "            \"facetable\": \"false\",\n",
    "        },\n",
    "        {\n",
    "            \"name\": \"keyPhrases\",\n",
    "            \"type\": \"Collection(Edm.String)\",\n",
    "            \"searchable\": \"true\",\n",
    "            \"retrievable\": \"true\",\n",
    "            \"sortable\": \"false\",\n",
    "            \"filterable\": \"true\",\n",
    "            \"facetable\": \"true\",\n",
    "        },\n",
    "        {\n",
    "            \"name\": \"persons\",\n",
    "            \"type\": \"Collection(Edm.String)\",\n",
    "            \"searchable\": \"true\",\n",
    "            \"retrievable\": \"true\",\n",
    "            \"sortable\": \"false\",\n",
    "            \"filterable\": \"false\",\n",
    "            \"facetable\": \"false\",\n",
    "        },\n",
    "        {\n",
    "            \"name\": \"urls\",\n",
    "            \"type\": \"Collection(Edm.String)\",\n",
    "            \"searchable\": \"false\",\n",
    "            \"retrievable\": \"true\",\n",
    "            \"sortable\": \"false\",\n",
    "            \"filterable\": \"false\",\n",
    "            \"facetable\": \"false\",\n",
    "        },\n",
    "        {\n",
    "            \"name\": \"emails\",\n",
    "            \"type\": \"Collection(Edm.String)\",\n",
    "            \"searchable\": \"true\",\n",
    "            \"retrievable\": \"true\",\n",
    "            \"sortable\": \"false\",\n",
    "            \"filterable\": \"true\",\n",
    "            \"facetable\": \"false\",\n",
    "        },\n",
    "    ],\n",
    "    \"semantic\": {\n",
    "        \"configurations\": [\n",
    "            {\n",
    "                \"name\": \"my-semantic-config\",\n",
    "                \"prioritizedFields\": {\n",
    "                    \"titleField\": {\"fieldName\": \"title\"},\n",
    "                    \"prioritizedContentFields\": [{\"fieldName\": \"content\"}],\n",
    "                },\n",
    "            }\n",
    "        ]\n",
    "    },\n",
    "}\n",
    "\n",
    "r = requests.put(\n",
    "    os.environ[\"AZURE_SEARCH_ENDPOINT\"] + \"/indexes/\" + index_name,\n",
    "    data=json.dumps(index_payload),\n",
    "    headers=headers,\n",
    "    params=params,\n",
    ")\n",
    "print(r.status_code)\n",
    "print(r.ok)"
   ]
  },
  {
   "cell_type": "code",
   "execution_count": 8,
   "metadata": {},
   "outputs": [],
   "source": [
    "# print(r.text)"
   ]
  },
  {
   "cell_type": "markdown",
   "metadata": {
    "jp-MarkdownHeadingCollapsed": true,
    "tags": []
   },
   "source": [
    "### Semantic Search capabilities\n",
    "\n",
    "As you can see above in the index payload, there is a `semantic configuration`. What is that?\n",
    "\n",
    "Azure Search has a feature called: Semantic Search. This is a Deep Neural Network that lives on the engine that tries to find results based on the semantic meaning of the query and the content, not keyword mathching/counting.\n",
    "From the [official documentation](https://learn.microsoft.com/en-us/azure/search/semantic-search-overview):\n",
    "\n",
    "Semantic search is a collection of features that improve the quality of initial search results for text-based queries. When you enable it on your search service, semantic search extends the query execution pipeline in two ways:\n",
    "\n",
    "- First, it adds secondary ranking over an initial result set, promoting the most semantically relevant results to the top of the list.\n",
    "\n",
    "- Second, it extracts and returns captions and answers in the response, which you can render on a search page to improve the user's search experience.\n",
    "\n",
    "For deeper explanation and limitations see [HERE](https://learn.microsoft.com/en-us/azure/search/semantic-ranking)\n"
   ]
  },
  {
   "cell_type": "markdown",
   "metadata": {},
   "source": [
    "## Create and Run the Indexer - (runs the pipeline)\n"
   ]
  },
  {
   "cell_type": "markdown",
   "metadata": {},
   "source": [
    "The three components you have created thus far (data source, skillset, index) are inputs to an indexer. Creating the indexer on Azure Cognitive Search is the event that puts the entire pipeline into motion.\n"
   ]
  },
  {
   "cell_type": "code",
   "execution_count": 9,
   "metadata": {},
   "outputs": [
    {
     "name": "stdout",
     "output_type": "stream",
     "text": [
      "201\n",
      "True\n"
     ]
    }
   ],
   "source": [
    "# Create an indexer\n",
    "indexer_payload = {\n",
    "    \"name\": indexer_name,\n",
    "    \"dataSourceName\": datasource_name,\n",
    "    \"targetIndexName\": index_name,\n",
    "    \"skillsetName\": skillset_name,\n",
    "    \"schedule\": {\n",
    "        \"interval\": \"PT2H\"\n",
    "    },  # How often do you want to check for new content in the data source\n",
    "    \"fieldMappings\": [\n",
    "        {\n",
    "            \"sourceFieldName\": \"metadata_storage_path\",\n",
    "            \"targetFieldName\": \"id\",\n",
    "            \"mappingFunction\": {\"name\": \"base64Encode\"},\n",
    "        },\n",
    "        {\"sourceFieldName\": \"metadata_title\", \"targetFieldName\": \"title\"},\n",
    "        {\"sourceFieldName\": \"metadata_storage_name\", \"targetFieldName\": \"name\"},\n",
    "        {\"sourceFieldName\": \"metadata_storage_path\", \"targetFieldName\": \"location\"},\n",
    "    ],\n",
    "    \"outputFieldMappings\": [\n",
    "        {\"sourceFieldName\": \"/document/merged_text\", \"targetFieldName\": \"content\"},\n",
    "        {\"sourceFieldName\": \"/document/pages/*\", \"targetFieldName\": \"chunks\"},\n",
    "        {\n",
    "            \"sourceFieldName\": \"/document/normalized_images/*/images_text\",\n",
    "            \"targetFieldName\": \"images_text\",\n",
    "        },\n",
    "        {\n",
    "            \"sourceFieldName\": \"/document/pages/*/keyPhrases/*\",\n",
    "            \"targetFieldName\": \"keyPhrases\",\n",
    "        },\n",
    "        {\n",
    "            \"sourceFieldName\": \"/document/pages/*/persons/*\",\n",
    "            \"targetFieldName\": \"persons\",\n",
    "        },\n",
    "        {\"sourceFieldName\": \"/document/pages/*/urls/*\", \"targetFieldName\": \"urls\"},\n",
    "        {\"sourceFieldName\": \"/document/pages/*/emails/*\", \"targetFieldName\": \"emails\"},\n",
    "    ],\n",
    "    \"parameters\": {\n",
    "        \"maxFailedItems\": -1,\n",
    "        \"maxFailedItemsPerBatch\": -1,\n",
    "        \"configuration\": {\n",
    "            \"dataToExtract\": \"contentAndMetadata\",\n",
    "            \"imageAction\": \"generateNormalizedImages\",\n",
    "        },\n",
    "    },\n",
    "}\n",
    "\n",
    "r = requests.put(\n",
    "    os.environ[\"AZURE_SEARCH_ENDPOINT\"] + \"/indexers/\" + indexer_name,\n",
    "    data=json.dumps(indexer_payload),\n",
    "    headers=headers,\n",
    "    params=params,\n",
    ")\n",
    "print(r.status_code)\n",
    "print(r.ok)"
   ]
  },
  {
   "cell_type": "code",
   "execution_count": 10,
   "metadata": {},
   "outputs": [],
   "source": [
    "# Uncomment if you find an error\n",
    "# r.text"
   ]
  },
  {
   "cell_type": "markdown",
   "metadata": {},
   "source": [
    "Note: If you get a 400 unauthorize error, make sure that you are using the Azure Search MANAGEMENT KEY, not the QUERY key\n"
   ]
  },
  {
   "cell_type": "code",
   "execution_count": 15,
   "metadata": {
    "tags": []
   },
   "outputs": [
    {
     "name": "stdout",
     "output_type": "stream",
     "text": [
      "200\n",
      "Status: inProgress\n",
      "Items Processed: 400\n",
      "True\n"
     ]
    }
   ],
   "source": [
    "# Optionally, get indexer status to confirm that it's running\n",
    "try:\n",
    "    r = requests.get(\n",
    "        os.environ[\"AZURE_SEARCH_ENDPOINT\"] + \"/indexers/\" + indexer_name + \"/status\",\n",
    "        headers=headers,\n",
    "        params=params,\n",
    "    )\n",
    "    # pprint(json.dumps(r.json(), indent=1))\n",
    "    print(r.status_code)\n",
    "    print(\"Status:\", r.json().get(\"lastResult\").get(\"status\"))\n",
    "    print(\"Items Processed:\", r.json().get(\"lastResult\").get(\"itemsProcessed\"))\n",
    "    print(r.ok)\n",
    "\n",
    "except Exception as e:\n",
    "    print(\"Wait a few seconds until the process starts and run this cell again.\")"
   ]
  },
  {
   "cell_type": "markdown",
   "metadata": {},
   "source": [
    "**When the indexer finishes running we will have all 9.8k documents indexed in your Search Engine!.**\n"
   ]
  },
  {
   "cell_type": "markdown",
   "metadata": {},
   "source": [
    "## Creation of its corresponding vector-based index\n"
   ]
  },
  {
   "cell_type": "markdown",
   "metadata": {},
   "source": [
    "**Azure Cognitive Search has now vector search capabilities** ([Watch this video](https://aka.ms/Vector_SearchSnackableVideo)). The advantages of vector search in Azure Cognitive Search include its integration with other capabilities of Azure Cognitive Search, the ability to use any type of data (text, image, audio, video, etc) from diverse Azure datastores to inform a single generative AI-powered application, and the support of vector fields in the search indexes. It also offers pure vector search, hybrid retrieval, and a sophisticated re-ranking system powered by Bing in a single integrated solution (check the release [blog site](https://techcommunity.microsoft.com/t5/azure-ai-services-blog/announcing-vector-search-in-azure-cognitive-search-public/ba-p/3872868)).\n",
    "\n",
    "![vector-search](https://techcommunity.microsoft.com/t5/image/serverpage/image-id/489211i001E2B9B34F483C2/image-dimensions/876x416?v=v2)\n",
    "\n",
    "**The main limitations (for now) of vector search in Azure Cognitive Search are:**\n",
    "\n",
    "- It does not generate vector embeddings for the content. Users need to provide the embeddings themselves by using a service such as Azure OpenAI.\n",
    "- There is not field type for Collection of vectors, meaning that each document in the vector-based index must be either a small document or a chunk of a bigger document.\n",
    "\n",
    "We are going to come back to these limitations and solve them in the next notebooks, but for now let's just create our corresponding vector-based index\n"
   ]
  },
  {
   "cell_type": "code",
   "execution_count": 16,
   "metadata": {},
   "outputs": [
    {
     "name": "stdout",
     "output_type": "stream",
     "text": [
      "201\n",
      "True\n"
     ]
    }
   ],
   "source": [
    "index_payload = {\n",
    "    \"name\": index_name + \"-vector\",\n",
    "    \"fields\": [\n",
    "        {\"name\": \"id\", \"type\": \"Edm.String\", \"key\": \"true\", \"filterable\": \"true\"},\n",
    "        {\n",
    "            \"name\": \"title\",\n",
    "            \"type\": \"Edm.String\",\n",
    "            \"searchable\": \"true\",\n",
    "            \"retrievable\": \"true\",\n",
    "        },\n",
    "        {\n",
    "            \"name\": \"chunk\",\n",
    "            \"type\": \"Edm.String\",\n",
    "            \"searchable\": \"true\",\n",
    "            \"retrievable\": \"true\",\n",
    "        },\n",
    "        {\n",
    "            \"name\": \"chunkVector\",\n",
    "            \"type\": \"Collection(Edm.Single)\",\n",
    "            \"searchable\": \"true\",\n",
    "            \"retrievable\": \"true\",\n",
    "            \"dimensions\": 1536,\n",
    "            \"vectorSearchConfiguration\": \"vectorConfig\",\n",
    "        },\n",
    "        {\n",
    "            \"name\": \"name\",\n",
    "            \"type\": \"Edm.String\",\n",
    "            \"searchable\": \"true\",\n",
    "            \"retrievable\": \"true\",\n",
    "            \"sortable\": \"false\",\n",
    "            \"filterable\": \"false\",\n",
    "            \"facetable\": \"false\",\n",
    "        },\n",
    "        {\n",
    "            \"name\": \"location\",\n",
    "            \"type\": \"Edm.String\",\n",
    "            \"searchable\": \"false\",\n",
    "            \"retrievable\": \"true\",\n",
    "            \"sortable\": \"false\",\n",
    "            \"filterable\": \"false\",\n",
    "            \"facetable\": \"false\",\n",
    "        },\n",
    "    ],\n",
    "    \"vectorSearch\": {\n",
    "        \"algorithmConfigurations\": [{\"name\": \"vectorConfig\", \"kind\": \"hnsw\"}]\n",
    "    },\n",
    "    \"semantic\": {\n",
    "        \"configurations\": [\n",
    "            {\n",
    "                \"name\": \"my-semantic-config\",\n",
    "                \"prioritizedFields\": {\n",
    "                    \"titleField\": {\"fieldName\": \"title\"},\n",
    "                    \"prioritizedContentFields\": [{\"fieldName\": \"chunk\"}],\n",
    "                    \"prioritizedKeywordsFields\": [],\n",
    "                },\n",
    "            }\n",
    "        ]\n",
    "    },\n",
    "}\n",
    "\n",
    "r = requests.put(\n",
    "    os.environ[\"AZURE_SEARCH_ENDPOINT\"] + \"/indexes/\" + index_name + \"-vector\",\n",
    "    data=json.dumps(index_payload),\n",
    "    headers=headers,\n",
    "    params=params,\n",
    ")\n",
    "print(r.status_code)\n",
    "print(r.ok)"
   ]
  },
  {
   "cell_type": "markdown",
   "metadata": {},
   "source": [
    "# References\n",
    "\n",
    "- https://learn.microsoft.com/en-us/azure/search/cognitive-search-tutorial-blob\n",
    "- https://github.com/Azure-Samples/azure-search-python-samples/blob/main/Tutorial-AI-Enrichment/PythonTutorial-AzureSearch-AIEnrichment.ipynb\n",
    "- https://github.com/Azure/azure-sdk-for-python/tree/main/sdk/search/azure-search-documents/samples\n",
    "- https://learn.microsoft.com/en-us/azure/search/search-get-started-python\n",
    "- https://github.com/Azure-Samples/azure-search-python-samples/blob/main/Tutorial-AI-Enrichment/PythonTutorial-AzureSearch-AIEnrichment.ipynb\n"
   ]
  },
  {
   "cell_type": "markdown",
   "metadata": {},
   "source": [
    "# NEXT\n",
    "\n",
    "In the next notebook 02, we will implement another type of indexing call One-to-Many, in which a single CSV or JSON file can be converted into multiple individual searchable documents in Azure Search.\n"
   ]
  }
 ],
 "metadata": {
  "kernelspec": {
   "display_name": "Python 3.10 - SDK v2",
   "language": "python",
   "name": "python310-sdkv2"
  },
  "language_info": {
   "codemirror_mode": {
    "name": "ipython",
    "version": 3
   },
   "file_extension": ".py",
   "mimetype": "text/x-python",
   "name": "python",
   "nbconvert_exporter": "python",
   "pygments_lexer": "ipython3",
   "version": "3.10.11"
  },
  "vscode": {
   "interpreter": {
    "hash": "9ff083f0c83558f9261023d47a77b9b3eb892c62cdbe066d046abcad1a5edb5c"
   }
  }
 },
 "nbformat": 4,
 "nbformat_minor": 4
}
